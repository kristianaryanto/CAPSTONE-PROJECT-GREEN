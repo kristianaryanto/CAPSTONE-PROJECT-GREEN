{
 "cells": [
  {
   "cell_type": "markdown",
   "metadata": {},
   "source": [
    "## train pm10 library"
   ]
  },
  {
   "cell_type": "code",
   "execution_count": 50,
   "metadata": {},
   "outputs": [],
   "source": [
    "import d1pm10 as pm10"
   ]
  },
  {
   "cell_type": "markdown",
   "metadata": {},
   "source": [
    "## train pm25 library"
   ]
  },
  {
   "cell_type": "code",
   "execution_count": 51,
   "metadata": {},
   "outputs": [],
   "source": [
    "import d1pm25 as pm25"
   ]
  },
  {
   "cell_type": "markdown",
   "metadata": {},
   "source": [
    "## train so2 library"
   ]
  },
  {
   "cell_type": "code",
   "execution_count": 52,
   "metadata": {},
   "outputs": [],
   "source": [
    "import d1so2 as so2"
   ]
  },
  {
   "cell_type": "markdown",
   "metadata": {},
   "source": [
    "## train co library"
   ]
  },
  {
   "cell_type": "code",
   "execution_count": 53,
   "metadata": {},
   "outputs": [],
   "source": [
    "import d1co as co"
   ]
  },
  {
   "cell_type": "markdown",
   "metadata": {},
   "source": [
    "## train o3 library"
   ]
  },
  {
   "cell_type": "code",
   "execution_count": 54,
   "metadata": {},
   "outputs": [],
   "source": [
    "import d1o3 as o3"
   ]
  },
  {
   "cell_type": "markdown",
   "metadata": {},
   "source": [
    "## train no2 library"
   ]
  },
  {
   "cell_type": "code",
   "execution_count": 55,
   "metadata": {},
   "outputs": [],
   "source": [
    "import d1no2 as no2"
   ]
  },
  {
   "cell_type": "code",
   "execution_count": 56,
   "metadata": {},
   "outputs": [],
   "source": [
    "import d1co2 as co2"
   ]
  },
  {
   "cell_type": "markdown",
   "metadata": {},
   "source": [
    "## show output date"
   ]
  },
  {
   "cell_type": "code",
   "execution_count": 1,
   "metadata": {},
   "outputs": [
    {
     "ename": "NameError",
     "evalue": "name 'pm10' is not defined",
     "output_type": "error",
     "traceback": [
      "\u001b[0;31m---------------------------------------------------------------------------\u001b[0m",
      "\u001b[0;31mNameError\u001b[0m                                 Traceback (most recent call last)",
      "\u001b[1;32m/home/yance/capscrot/CAPSTONE-PROJECT-GREEN/ML/DKI1/DKI1.ipynb Cell 15'\u001b[0m in \u001b[0;36m<cell line: 3>\u001b[0;34m()\u001b[0m\n\u001b[1;32m      <a href='vscode-notebook-cell:/home/yance/capscrot/CAPSTONE-PROJECT-GREEN/ML/DKI1/DKI1.ipynb#ch0000014?line=0'>1</a>\u001b[0m \u001b[39mimport\u001b[39;00m \u001b[39mpandas\u001b[39;00m \u001b[39mas\u001b[39;00m \u001b[39mpd\u001b[39;00m\n\u001b[1;32m      <a href='vscode-notebook-cell:/home/yance/capscrot/CAPSTONE-PROJECT-GREEN/ML/DKI1/DKI1.ipynb#ch0000014?line=1'>2</a>\u001b[0m \u001b[39minput\u001b[39m \u001b[39m=\u001b[39m \u001b[39m'\u001b[39m\u001b[39m2022-10-12\u001b[39m\u001b[39m'\u001b[39m\n\u001b[0;32m----> <a href='vscode-notebook-cell:/home/yance/capscrot/CAPSTONE-PROJECT-GREEN/ML/DKI1/DKI1.ipynb#ch0000014?line=2'>3</a>\u001b[0m df \u001b[39m=\u001b[39m pm10\u001b[39m.\u001b[39mpm10(\u001b[39minput\u001b[39m)\n\u001b[1;32m      <a href='vscode-notebook-cell:/home/yance/capscrot/CAPSTONE-PROJECT-GREEN/ML/DKI1/DKI1.ipynb#ch0000014?line=3'>4</a>\u001b[0m df2 \u001b[39m=\u001b[39m pm25\u001b[39m.\u001b[39mpm25(\u001b[39minput\u001b[39m)\n\u001b[1;32m      <a href='vscode-notebook-cell:/home/yance/capscrot/CAPSTONE-PROJECT-GREEN/ML/DKI1/DKI1.ipynb#ch0000014?line=4'>5</a>\u001b[0m df3 \u001b[39m=\u001b[39m so2\u001b[39m.\u001b[39mso2(\u001b[39minput\u001b[39m)\n",
      "\u001b[0;31mNameError\u001b[0m: name 'pm10' is not defined"
     ]
    }
   ],
   "source": [
    "import pandas as pd\n",
    "input = '2022-10-12'\n",
    "df = pm10.pm10(input)\n",
    "df2 = pm25.pm25(input)\n",
    "df3 = so2.so2(input)\n",
    "df4 = co.co(input)\n",
    "df5 = o3.o3(input)\n",
    "df6 = no2.no2(input)\n",
    "df7 = co2.co2(input)\n",
    "\n",
    "frame = [df,df2,df3,df4,df5,df6,df7]\n",
    "ttl = pd.concat(frame)\n",
    "ttl2 = pd.DataFrame(ttl,[\"Value\"])\n",
    "print(ttl)\n",
    "\n"
   ]
  }
 ],
 "metadata": {
  "interpreter": {
   "hash": "e7370f93d1d0cde622a1f8e1c04877d8463912d04d973331ad4851f04de6915a"
  },
  "kernelspec": {
   "display_name": "Python 3.8.10 64-bit",
   "language": "python",
   "name": "python3"
  },
  "language_info": {
   "codemirror_mode": {
    "name": "ipython",
    "version": 3
   },
   "file_extension": ".py",
   "mimetype": "text/x-python",
   "name": "python",
   "nbconvert_exporter": "python",
   "pygments_lexer": "ipython3",
   "version": "3.8.10"
  },
  "orig_nbformat": 4
 },
 "nbformat": 4,
 "nbformat_minor": 2
}
